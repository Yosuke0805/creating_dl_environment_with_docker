{
 "cells": [
  {
   "cell_type": "code",
   "execution_count": 1,
   "metadata": {},
   "outputs": [
    {
     "ename": "ModuleNotFoundError",
     "evalue": "No module named 'torch'",
     "output_type": "error",
     "traceback": [
      "\u001b[1;31m---------------------------------------------------------------------------\u001b[0m",
      "\u001b[1;31mModuleNotFoundError\u001b[0m                       Traceback (most recent call last)",
      "Cell \u001b[1;32mIn[1], line 1\u001b[0m\n\u001b[1;32m----> 1\u001b[0m \u001b[38;5;28;01mimport\u001b[39;00m \u001b[38;5;21;01mtorch\u001b[39;00m\n\u001b[0;32m      2\u001b[0m \u001b[38;5;28;01mimport\u001b[39;00m \u001b[38;5;21;01mtorch\u001b[39;00m\u001b[38;5;21;01m.\u001b[39;00m\u001b[38;5;21;01mcuda\u001b[39;00m \u001b[38;5;28;01mas\u001b[39;00m \u001b[38;5;21;01mcuda\u001b[39;00m\n\u001b[0;32m      4\u001b[0m \u001b[38;5;66;03m# Check if GPU is available\u001b[39;00m\n",
      "\u001b[1;31mModuleNotFoundError\u001b[0m: No module named 'torch'"
     ]
    }
   ],
   "source": [
    "import torch\n",
    "import torch.cuda as cuda\n",
    "\n",
    "# Check if GPU is available\n",
    "if torch.cuda.is_available():\n",
    "    print(f\"CUDA is available. GPU name: {torch.cuda.get_device_name(0)}\")\n",
    "    \n",
    "    # Get the device (GPU) properties\n",
    "    device = torch.device(\"cuda\")\n",
    "    \n",
    "    # Get current GPU memory usage\n",
    "    total_memory = torch.cuda.get_device_properties(device).total_memory\n",
    "    reserved_memory = torch.cuda.memory_reserved(device)\n",
    "    allocated_memory = torch.cuda.memory_allocated(device)\n",
    "    free_memory = reserved_memory - allocated_memory\n",
    "    \n",
    "    print(f\"Total GPU memory: {total_memory / 1e9:.2f} GB\")\n",
    "    print(f\"Reserved GPU memory: {reserved_memory / 1e9:.2f} GB\")\n",
    "    print(f\"Allocated GPU memory: {allocated_memory / 1e9:.2f} GB\")\n",
    "    print(f\"Free GPU memory: {free_memory / 1e9:.2f} GB\")\n",
    "    \n",
    "else:\n",
    "    print(\"CUDA is not available. Running on CPU.\")\n",
    "\n"
   ]
  },
  {
   "cell_type": "code",
   "execution_count": null,
   "metadata": {},
   "outputs": [],
   "source": []
  }
 ],
 "metadata": {
  "kernelspec": {
   "display_name": "Python 3",
   "language": "python",
   "name": "python3"
  },
  "language_info": {
   "codemirror_mode": {
    "name": "ipython",
    "version": 3
   },
   "file_extension": ".py",
   "mimetype": "text/x-python",
   "name": "python",
   "nbconvert_exporter": "python",
   "pygments_lexer": "ipython3",
   "version": "3.11.0"
  }
 },
 "nbformat": 4,
 "nbformat_minor": 2
}
